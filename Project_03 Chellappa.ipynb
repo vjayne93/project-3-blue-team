{
 "cells": [
  {
   "cell_type": "code",
   "execution_count": 49,
   "id": "4eb9521e-748e-4fc8-a40e-db5bd89362b8",
   "metadata": {
    "tags": []
   },
   "outputs": [
    {
     "name": "stderr",
     "output_type": "stream",
     "text": [
      "/var/folders/4y/j8w5lnmx5xj8hrtc6s_9hbnw0000gn/T/ipykernel_14242/3040594506.py:5: DeprecationWarning: Importing display from IPython.core.display is deprecated since IPython 7.14, please import from IPython display\n",
      "  from IPython.core.display import display\n"
     ]
    },
    {
     "data": {
      "text/html": [
       "<div>\n",
       "<style scoped>\n",
       "    .dataframe tbody tr th:only-of-type {\n",
       "        vertical-align: middle;\n",
       "    }\n",
       "\n",
       "    .dataframe tbody tr th {\n",
       "        vertical-align: top;\n",
       "    }\n",
       "\n",
       "    .dataframe thead th {\n",
       "        text-align: right;\n",
       "    }\n",
       "</style>\n",
       "<table border=\"1\" class=\"dataframe\">\n",
       "  <thead>\n",
       "    <tr style=\"text-align: right;\">\n",
       "      <th></th>\n",
       "      <th>Date</th>\n",
       "      <th>Day of Week</th>\n",
       "      <th>Time of Day</th>\n",
       "      <th>Name</th>\n",
       "      <th>Pickup Location</th>\n",
       "      <th>Dropoff Location</th>\n",
       "      <th>Fill Type</th>\n",
       "    </tr>\n",
       "  </thead>\n",
       "  <tbody>\n",
       "    <tr>\n",
       "      <th>0</th>\n",
       "      <td>1/1/2023</td>\n",
       "      <td>Sunday</td>\n",
       "      <td>Morning (7AM-12PM)</td>\n",
       "      <td>Krista Kircanski</td>\n",
       "      <td>GO - Grocery Outlet</td>\n",
       "      <td>BOK</td>\n",
       "      <td>Rescued Groceries</td>\n",
       "    </tr>\n",
       "    <tr>\n",
       "      <th>1</th>\n",
       "      <td>1/2/2023</td>\n",
       "      <td>Monday</td>\n",
       "      <td>Evening (5PM-10PM)</td>\n",
       "      <td>Kate Gilbert</td>\n",
       "      <td>Grocery FILL</td>\n",
       "      <td>BOK</td>\n",
       "      <td>Purchased Groceries</td>\n",
       "    </tr>\n",
       "    <tr>\n",
       "      <th>2</th>\n",
       "      <td>1/2/2023</td>\n",
       "      <td>Monday</td>\n",
       "      <td>Evening (5PM-10PM)</td>\n",
       "      <td>Kate Gilbert</td>\n",
       "      <td>Grocery FILL</td>\n",
       "      <td>DS - DiSilvestro</td>\n",
       "      <td>Purchased Groceries</td>\n",
       "    </tr>\n",
       "    <tr>\n",
       "      <th>3</th>\n",
       "      <td>1/2/2023</td>\n",
       "      <td>Monday</td>\n",
       "      <td>Evening (5PM-10PM)</td>\n",
       "      <td>Kathryn Nolan</td>\n",
       "      <td>Grocery FILL</td>\n",
       "      <td>BOK</td>\n",
       "      <td>Purchased Groceries</td>\n",
       "    </tr>\n",
       "    <tr>\n",
       "      <th>4</th>\n",
       "      <td>1/2/2023</td>\n",
       "      <td>Monday</td>\n",
       "      <td>Morning (7AM-12PM)</td>\n",
       "      <td>Leah Santos</td>\n",
       "      <td>Grocery FILL</td>\n",
       "      <td>Mifflin</td>\n",
       "      <td>Purchased Groceries</td>\n",
       "    </tr>\n",
       "  </tbody>\n",
       "</table>\n",
       "</div>"
      ],
      "text/plain": [
       "       Date Day of Week         Time of Day              Name  \\\n",
       "0  1/1/2023      Sunday  Morning (7AM-12PM)  Krista Kircanski   \n",
       "1  1/2/2023      Monday  Evening (5PM-10PM)      Kate Gilbert   \n",
       "2  1/2/2023      Monday  Evening (5PM-10PM)      Kate Gilbert   \n",
       "3  1/2/2023      Monday  Evening (5PM-10PM)     Kathryn Nolan   \n",
       "4  1/2/2023      Monday  Morning (7AM-12PM)       Leah Santos   \n",
       "\n",
       "       Pickup Location  Dropoff Location            Fill Type  \n",
       "0  GO - Grocery Outlet               BOK    Rescued Groceries  \n",
       "1         Grocery FILL               BOK  Purchased Groceries  \n",
       "2         Grocery FILL  DS - DiSilvestro  Purchased Groceries  \n",
       "3         Grocery FILL               BOK  Purchased Groceries  \n",
       "4         Grocery FILL           Mifflin  Purchased Groceries  "
      ]
     },
     "execution_count": 49,
     "metadata": {},
     "output_type": "execute_result"
    }
   ],
   "source": [
    "import pandas as pd\n",
    "from ipywidgets import interact, widgets\n",
    "import warnings\n",
    "import plotly.express as px\n",
    "from IPython.core.display import display\n",
    "import datetime\n",
    "import matplotlib.pyplot as plt\n",
    "# read data\n",
    "df = pd.read_csv('Resources/fridgefills.csv')\n",
    "\n",
    "df.head()\n"
   ]
  },
  {
   "cell_type": "code",
   "execution_count": 55,
   "id": "30a4d09b-cda1-4acb-928d-db8bc5a634f6",
   "metadata": {},
   "outputs": [
    {
     "name": "stdout",
     "output_type": "stream",
     "text": [
      "      Month  Count\n",
      "0   2023-01     31\n",
      "1   2023-02     28\n",
      "2   2023-03     31\n",
      "3   2023-04     30\n",
      "4   2023-05     31\n",
      "5   2023-06     30\n",
      "6   2023-07     31\n",
      "7   2023-08     31\n",
      "8   2023-09     30\n",
      "9   2023-10     31\n",
      "10  2023-11     30\n",
      "11  2023-12     31\n"
     ]
    }
   ],
   "source": [
    "# Date to datetime\n",
    "data = {'Date': pd.date_range(start='2023-01-01', end='2023-12-31', freq='D')}\n",
    "df = pd.DataFrame(data)\n",
    "\n",
    "#Isolate month from date\n",
    "df['Month'] = df['Date'].dt.month\n",
    "\n",
    "#Capture number of occurences every month\n",
    "month_counts = df['Month'].value_counts().sort_index()\n",
    "\n",
    "#Find Highest and Lowest months\n",
    "highest_month = month_counts.idxmax()\n",
    "lowest_month = month_counts.idxmin()\n",
    "\n",
    "#Display\n",
    "print(monthly_counts)"
   ]
  },
  {
   "cell_type": "code",
   "execution_count": 65,
   "id": "8fdd77d9-dedc-4e2e-8f24-17868e7113bc",
   "metadata": {},
   "outputs": [
    {
     "data": {
      "image/png": "[encoded data removed]",
      "text/plain": [
       "<Figure size 1000x600 with 1 Axes>"
      ]
     },
     "metadata": {},
     "output_type": "display_data"
    }
   ],
   "source": [
    "# Create Interactive Visualization \n",
    "highest_month = monthly_counts.loc[monthly_counts['Count'].idxmax()]\n",
    "lowest_month = monthly_counts.loc[monthly_counts['Count'].idxmin()]\n",
    "\n",
    "\n",
    "#Bar Plot\n",
    "plt.figure(figsize=(10, 6))\n",
    "month_counts.plot(kind='bar')\n",
    "plt.title('Count of Records by Month')\n",
    "plt.xlabel('Month')\n",
    "plt.ylabel('Count')\n",
    "plt.xticks(rotation=45)\n",
    "plt.grid(axis='y')\n",
    "plt.legend()\n",
    "plt.show()"
   ]
  },
  {
   "cell_type": "code",
   "execution_count": null,
   "id": "86be111d-ed1f-4678-98d6-9c72fbb6127b",
   "metadata": {},
   "outputs": [],
   "source": []
  },
  {
   "cell_type": "code",
   "execution_count": null,
   "id": "adc7a6fb-4478-4348-b1a9-e86db789fefe",
   "metadata": {},
   "outputs": [],
   "source": []
  }
 ],
 "metadata": {
  "kernelspec": {
   "display_name": "Python 3 (ipykernel)",
   "language": "python",
   "name": "python3"
  },
  "language_info": {
   "codemirror_mode": {
    "name": "ipython",
    "version": 3
   },
   "file_extension": ".py",
   "mimetype": "text/x-python",
   "name": "python",
   "nbconvert_exporter": "python",
   "pygments_lexer": "ipython3",
   "version": "3.10.13"
  }
 },
 "nbformat": 4,
 "nbformat_minor": 5
}
